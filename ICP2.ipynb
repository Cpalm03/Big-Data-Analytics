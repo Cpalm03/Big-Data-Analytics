{
  "nbformat": 4,
  "nbformat_minor": 0,
  "metadata": {
    "colab": {
      "provenance": [],
      "authorship_tag": "ABX9TyNlUsJYDc/gk23rHVGVERRT",
      "include_colab_link": true
    },
    "kernelspec": {
      "name": "python3",
      "display_name": "Python 3"
    },
    "language_info": {
      "name": "python"
    }
  },
  "cells": [
    {
      "cell_type": "markdown",
      "metadata": {
        "id": "view-in-github",
        "colab_type": "text"
      },
      "source": [
        "<a href=\"https://colab.research.google.com/github/Cpalm03/Big-Data-Analytics/blob/main/ICP2.ipynb\" target=\"_parent\"><img src=\"https://colab.research.google.com/assets/colab-badge.svg\" alt=\"Open In Colab\"/></a>"
      ]
    },
    {
      "cell_type": "markdown",
      "source": [
        "Cooper Palmer"
      ],
      "metadata": {
        "id": "t1VxQ7x_t4sB"
      }
    },
    {
      "cell_type": "code",
      "execution_count": null,
      "metadata": {
        "colab": {
          "base_uri": "https://localhost:8080/"
        },
        "id": "r6iWqqJhqyBv",
        "outputId": "60ba77c2-e814-4837-f836-5f374d12643f"
      },
      "outputs": [
        {
          "output_type": "stream",
          "name": "stdout",
          "text": [
            "Instance count: 2, Class count: 3\n",
            "Instance count: 1, Class count: 3\n"
          ]
        }
      ],
      "source": [
        "class Counter:\n",
        "\n",
        "  count = 0\n",
        "\n",
        "  def __init__(self):\n",
        "    self._count = 0\n",
        "\n",
        "  def increment(self):\n",
        "    self._count += 1\n",
        "    Counter.count += 1\n",
        "\n",
        "  def get_counts(self):\n",
        "    return f\"Instance count: {self._count}, Class count: {Counter.count}\"\n",
        "\n",
        "a = Counter()\n",
        "b = Counter()\n",
        "\n",
        "a.increment()\n",
        "a.increment()\n",
        "b.increment()\n",
        "\n",
        "print(a.get_counts())\n",
        "print(b.get_counts())\n"
      ]
    },
    {
      "cell_type": "markdown",
      "source": [
        "1a.\n",
        "The difference between these two is that Counter.count increments anytime the Counter class is called, while self_.count initializes a new instance and counts from there, so when a new call is made it once again starts from 0\n",
        "\n",
        "1b.\n",
        "\n",
        "print(a.get_counts()) -  Instance count: 2, Class count: 3\n",
        "\n",
        "print(b.get_counts()) - Instance count: 1, Class count: 3\n",
        "\n",
        "1c. The increment method affects the class variable by adding one to it every time it is called while the instance variable is only added to if the increment method is called through the correct instance"
      ],
      "metadata": {
        "id": "y-5gut-6vhmd"
      }
    },
    {
      "cell_type": "code",
      "source": [
        "def sum_all(*args):\n",
        "  return sum(args)\n",
        "\n",
        "print(\"Sum of 1, 2, 3 is: \", sum_all(1, 2, 3))\n",
        "print(\"Sum of 4, 5, 6, 7 is: \", sum_all(4, 5, 6, 7))"
      ],
      "metadata": {
        "colab": {
          "base_uri": "https://localhost:8080/"
        },
        "id": "caMqcO_exyro",
        "outputId": "624df852-c902-4ec0-c3e2-f6247ca1dbd7"
      },
      "execution_count": null,
      "outputs": [
        {
          "output_type": "stream",
          "name": "stdout",
          "text": [
            "Sum of 1, 2, 3 is:  6\n",
            "Sum of 4, 5, 6, 7 is:  22\n"
          ]
        }
      ]
    },
    {
      "cell_type": "code",
      "source": [
        "def first_word(unoStr):\n",
        "  unoStr.sort()\n",
        "  return print(unoStr[0])\n",
        "\n",
        "students = ['Mary', 'Zelda', 'Jimmy', 'Jack', 'Bartholomew', 'Gertrude']\n",
        "\n",
        "first_word(students)"
      ],
      "metadata": {
        "colab": {
          "base_uri": "https://localhost:8080/"
        },
        "id": "onSY85wEy22K",
        "outputId": "eb74d194-5861-4ddb-a82d-6c3a5f6f5897"
      },
      "execution_count": null,
      "outputs": [
        {
          "output_type": "stream",
          "name": "stdout",
          "text": [
            "Bartholomew\n"
          ]
        }
      ]
    },
    {
      "cell_type": "code",
      "source": [
        "class Employee:\n",
        "\n",
        "  numEmployees = 0\n",
        "  empSalary = 0\n",
        "\n",
        "  def __init__(self, name, family, salary, department):\n",
        "    self.name = name\n",
        "    self.family = family\n",
        "    self.salary = salary\n",
        "    self.department = department\n",
        "    Employee.numEmployees += 1\n",
        "    Employee.empSalary += salary\n",
        "\n",
        "  def average_salary(self):\n",
        "    return f'{Employee.empSalary/Employee.numEmployees}'\n",
        "\n",
        "class FulltimeEmployee(Employee):\n",
        "  pass\n",
        "\n",
        "\n",
        "e1 = Employee('Cooper', 'Palmer', 50000, 'Software Management')\n",
        "e2 = Employee('Lucas', 'Wright', 60000, 'Security')\n",
        "e3 = FulltimeEmployee('Luke', 'Engel', 85000, 'Data Analytics')\n",
        "\n",
        "print(e1.numEmployees)\n",
        "print(e2.average_salary())\n",
        "\n",
        "\n",
        "\n"
      ],
      "metadata": {
        "id": "ayhesaBW0fGn",
        "colab": {
          "base_uri": "https://localhost:8080/"
        },
        "outputId": "00541c6d-3462-40f0-b78d-9ca44e0ce752"
      },
      "execution_count": 35,
      "outputs": [
        {
          "output_type": "stream",
          "name": "stdout",
          "text": [
            "3\n",
            "65000.0\n"
          ]
        }
      ]
    }
  ]
}