{
  "nbformat": 4,
  "nbformat_minor": 0,
  "metadata": {
    "colab": {
      "provenance": [],
      "authorship_tag": "ABX9TyPaCcKz2YHhPvghzQ6oUymC",
      "include_colab_link": true
    },
    "kernelspec": {
      "name": "python3",
      "display_name": "Python 3"
    },
    "language_info": {
      "name": "python"
    }
  },
  "cells": [
    {
      "cell_type": "markdown",
      "metadata": {
        "id": "view-in-github",
        "colab_type": "text"
      },
      "source": [
        "<a href=\"https://colab.research.google.com/github/Cpalm03/Big-Data-Analytics/blob/main/ICP1.ipynb\" target=\"_parent\"><img src=\"https://colab.research.google.com/assets/colab-badge.svg\" alt=\"Open In Colab\"/></a>"
      ]
    },
    {
      "cell_type": "code",
      "execution_count": 18,
      "metadata": {
        "id": "-fH_H5bhE1ZQ",
        "colab": {
          "base_uri": "https://localhost:8080/"
        },
        "outputId": "4aef0093-d4e9-486a-8fbd-e7524f18a83b"
      },
      "outputs": [
        {
          "output_type": "stream",
          "name": "stdout",
          "text": [
            "nhyp\n"
          ]
        }
      ],
      "source": [
        "cLst = ['p','y','t','h','o','n']\n",
        "del cLst[2]\n",
        "del cLst[3]\n",
        "rLst = [cLst[3], cLst[2], cLst[1], cLst[0]]\n",
        "fStr = ''.join(rLst)\n",
        "print(fStr)\n",
        "\n",
        "\n",
        "\n",
        "\n",
        "\n"
      ]
    },
    {
      "cell_type": "code",
      "source": [
        "num1, num2 = input(\"Please input two numbers: \").split()\n",
        "\n",
        "print(\"Multiplied they equal \" + str(int(num1) * int(num2)))\n",
        "print(\"Added they equal \" + str(int(num1) + int(num2)))\n",
        "print(\"Subtracted they equal \" + str(int(num1) - int(num2)))\n",
        "print(\"Divided they equal \" + str(int(num1) / int(num2)))\n"
      ],
      "metadata": {
        "colab": {
          "base_uri": "https://localhost:8080/"
        },
        "id": "udxX-g8DBzRM",
        "outputId": "88e01a5a-005a-46dd-c3a8-75e07bf5c925"
      },
      "execution_count": 27,
      "outputs": [
        {
          "output_type": "stream",
          "name": "stdout",
          "text": [
            "Please input two numbers: 6 3\n",
            "Multiplied they equal 18\n",
            "Added they equal 9\n",
            "Subtracted they equal 3\n",
            "Divided they equal 2.0\n"
          ]
        }
      ]
    },
    {
      "cell_type": "code",
      "source": [
        "uStr = input(\"please input a String: \")\n",
        "nStr = uStr.replace('python', 'pythons')\n",
        "print(nStr)\n"
      ],
      "metadata": {
        "colab": {
          "base_uri": "https://localhost:8080/"
        },
        "id": "eu9RL9yYDPVp",
        "outputId": "a00bfe6b-e1bd-4b24-f130-e94d6f53b6b6"
      },
      "execution_count": 30,
      "outputs": [
        {
          "output_type": "stream",
          "name": "stdout",
          "text": [
            "please input a String: python python python\n",
            "pythons pythons pythons\n"
          ]
        }
      ]
    },
    {
      "cell_type": "code",
      "source": [
        "grade = int(input(\"Please input your grade: \"))\n",
        "\n",
        "if grade < 0 or grade > 100:\n",
        "  print(\"Invalid Grade\")\n",
        "elif grade < 60:\n",
        "  print(\"Your grade is an F\")\n",
        "elif grade < 70:\n",
        "  print(\"Your grade is a D\")\n",
        "elif grade < 80:\n",
        "  print(\"Your grade is a C\")\n",
        "elif grade < 90:\n",
        "  print(\"Your grade is a B\")\n",
        "else:\n",
        "  print(\"You got an A!!!!\")\n",
        "\n"
      ],
      "metadata": {
        "colab": {
          "base_uri": "https://localhost:8080/"
        },
        "id": "afAGRoAQEfL5",
        "outputId": "a04b9146-f290-402d-fdc5-18dd305467c2"
      },
      "execution_count": 41,
      "outputs": [
        {
          "output_type": "stream",
          "name": "stdout",
          "text": [
            "Please input your grade: 79\n",
            "Your grade is a C\n"
          ]
        }
      ]
    },
    {
      "cell_type": "code",
      "source": [
        "x = [23, 'Python', 23.98]\n",
        "types = [type(x[0]), type(x[1]), type(x[2])]\n",
        "\n",
        "print(x)\n",
        "print(types)\n",
        "\n",
        "\n",
        "\n",
        "\n"
      ],
      "metadata": {
        "colab": {
          "base_uri": "https://localhost:8080/"
        },
        "id": "ruhBsfp1Fmyh",
        "outputId": "4dd0c5c5-e287-4f07-e1cc-0842fea8fff8"
      },
      "execution_count": 42,
      "outputs": [
        {
          "output_type": "stream",
          "name": "stdout",
          "text": [
            "[23, 'Python', 23.98]\n",
            "[<class 'int'>, <class 'str'>, <class 'float'>]\n"
          ]
        }
      ]
    },
    {
      "cell_type": "code",
      "source": [
        "IT_companies = {'Facebook', 'Google', 'Microsoft', 'Apple', 'IBM', 'Oracle', 'Amazon'}\n",
        "A = {19, 22, 24, 20, 25, 26}\n",
        "B = {19, 22, 20, 25, 26, 24, 28, 27}\n",
        "age = [22, 19, 24, 25, 26, 24, 25, 24]\n",
        "\n",
        "print(\"Length of the set IT_companies = \" + str(len(IT_companies)))\n",
        "IT_companies.add('Twitter')\n",
        "print(IT_companies)\n",
        "IT_companies.update(['Meta', 'Dell', 'Sony'])\n",
        "print(IT_companies)\n",
        "IT_companies.remove('Facebook')\n",
        "print(IT_companies)\n",
        "#Discard will not raise an error if the value does not exist\n",
        "print(A.union(B))\n",
        "print(A.intersection(B))\n",
        "#A is a Subset of B\n",
        "#No they are not\n",
        "print(\"A join B\")\n",
        "print(A.union(B))\n",
        "print(\"B join A\")\n",
        "print(B.union(A))\n",
        "# it would be 28 and 27\n",
        "A.clear()\n",
        "B.clear()\n",
        "setAges = set(age)\n",
        "print(\"Set length = \" + str(len(setAges)) + \" List length = \" + str(len(age)))\n",
        "\n"
      ],
      "metadata": {
        "colab": {
          "base_uri": "https://localhost:8080/"
        },
        "id": "sDq8gkftGxy8",
        "outputId": "6ef23a2d-f684-45d9-a429-201645ee8575"
      },
      "execution_count": 52,
      "outputs": [
        {
          "output_type": "stream",
          "name": "stdout",
          "text": [
            "Length of the set IT_companies = 7\n",
            "{'Microsoft', 'Amazon', 'Oracle', 'Google', 'Apple', 'IBM', 'Twitter', 'Facebook'}\n",
            "{'Amazon', 'Apple', 'Microsoft', 'Meta', 'Oracle', 'Sony', 'Google', 'IBM', 'Twitter', 'Facebook', 'Dell'}\n",
            "{'Amazon', 'Apple', 'Microsoft', 'Meta', 'Oracle', 'Sony', 'Google', 'IBM', 'Twitter', 'Dell'}\n",
            "{19, 20, 22, 24, 25, 26, 27, 28}\n",
            "{19, 20, 22, 24, 25, 26}\n",
            "A join B\n",
            "{19, 20, 22, 24, 25, 26, 27, 28}\n",
            "B join A\n",
            "{19, 20, 22, 24, 25, 26, 27, 28}\n",
            "Set length = 5 List length = 8\n"
          ]
        }
      ]
    }
  ]
}