{
  "nbformat": 4,
  "nbformat_minor": 0,
  "metadata": {
    "colab": {
      "provenance": [],
      "gpuType": "T4",
      "authorship_tag": "ABX9TyMJ1ZsPd2slr9Fft4WJaOhh",
      "include_colab_link": true
    },
    "kernelspec": {
      "name": "python3",
      "display_name": "Python 3"
    },
    "language_info": {
      "name": "python"
    },
    "accelerator": "GPU"
  },
  "cells": [
    {
      "cell_type": "markdown",
      "metadata": {
        "id": "view-in-github",
        "colab_type": "text"
      },
      "source": [
        "<a href=\"https://colab.research.google.com/github/Cpalm03/Big-Data-Analytics/blob/main/ICP8.ipynb\" target=\"_parent\"><img src=\"https://colab.research.google.com/assets/colab-badge.svg\" alt=\"Open In Colab\"/></a>"
      ]
    },
    {
      "cell_type": "code",
      "source": [
        "#pip install pyspark"
      ],
      "metadata": {
        "id": "3K9Px-Jwz5ZL"
      },
      "execution_count": 1,
      "outputs": []
    },
    {
      "cell_type": "code",
      "execution_count": 49,
      "metadata": {
        "id": "AcrAX3Q6zyPA"
      },
      "outputs": [],
      "source": [
        "from pyspark import SparkContext, SparkConf"
      ]
    },
    {
      "cell_type": "code",
      "source": [
        "sc = SparkContext()"
      ],
      "metadata": {
        "id": "dlojUJODz61q"
      },
      "execution_count": 67,
      "outputs": []
    },
    {
      "cell_type": "code",
      "source": [
        "sc.stop()"
      ],
      "metadata": {
        "id": "scjB6W_k4pf6"
      },
      "execution_count": 58,
      "outputs": []
    },
    {
      "cell_type": "code",
      "source": [
        "data = sc.parallelize([1,2,3,4,5,6,7,8,9,10,11,12,13,14,15])"
      ],
      "metadata": {
        "id": "wNwnngPLz9Mp"
      },
      "execution_count": 4,
      "outputs": []
    },
    {
      "cell_type": "code",
      "source": [
        "data.collect()"
      ],
      "metadata": {
        "colab": {
          "base_uri": "https://localhost:8080/"
        },
        "id": "AUnDyUYx0BBO",
        "outputId": "7c2a3c98-a29c-4aed-a06d-3501c38b1bf0"
      },
      "execution_count": 5,
      "outputs": [
        {
          "output_type": "execute_result",
          "data": {
            "text/plain": [
              "[1, 2, 3, 4, 5, 6, 7, 8, 9, 10, 11, 12, 13, 14, 15]"
            ]
          },
          "metadata": {},
          "execution_count": 5
        }
      ]
    },
    {
      "cell_type": "code",
      "source": [
        "data.getNumPartitions()"
      ],
      "metadata": {
        "colab": {
          "base_uri": "https://localhost:8080/"
        },
        "id": "XWqd0p3n0Dlk",
        "outputId": "c037665f-3efd-492e-beb9-08b6535645e0"
      },
      "execution_count": 6,
      "outputs": [
        {
          "output_type": "execute_result",
          "data": {
            "text/plain": [
              "2"
            ]
          },
          "metadata": {},
          "execution_count": 6
        }
      ]
    },
    {
      "cell_type": "code",
      "source": [
        "data.take(1)"
      ],
      "metadata": {
        "colab": {
          "base_uri": "https://localhost:8080/"
        },
        "id": "smmaWbCs0G7L",
        "outputId": "cde468d0-8958-40a8-ad22-710f2b081de9"
      },
      "execution_count": 7,
      "outputs": [
        {
          "output_type": "execute_result",
          "data": {
            "text/plain": [
              "[1]"
            ]
          },
          "metadata": {},
          "execution_count": 7
        }
      ]
    },
    {
      "cell_type": "code",
      "source": [
        "eData = data.filter(lambda x: x%2==0)\n",
        "eData.collect()"
      ],
      "metadata": {
        "colab": {
          "base_uri": "https://localhost:8080/"
        },
        "id": "_8acpBIj0Ilj",
        "outputId": "e7f23d93-a6ad-4e7d-8122-0e5c62ca1d19"
      },
      "execution_count": 9,
      "outputs": [
        {
          "output_type": "execute_result",
          "data": {
            "text/plain": [
              "[2, 4, 6, 8, 10, 12, 14]"
            ]
          },
          "metadata": {},
          "execution_count": 9
        }
      ]
    },
    {
      "cell_type": "code",
      "source": [
        "sData = data.map(lambda x: pow(x,2))\n",
        "sData.collect()"
      ],
      "metadata": {
        "colab": {
          "base_uri": "https://localhost:8080/"
        },
        "id": "RP2L8F8g0NNz",
        "outputId": "7a87ef23-1327-4b48-90fc-42987cf8980a"
      },
      "execution_count": 10,
      "outputs": [
        {
          "output_type": "execute_result",
          "data": {
            "text/plain": [
              "[1, 4, 9, 16, 25, 36, 49, 64, 81, 100, 121, 144, 169, 196, 225]"
            ]
          },
          "metadata": {},
          "execution_count": 10
        }
      ]
    },
    {
      "cell_type": "code",
      "source": [
        "rData = data.reduce(lambda x,y: x+y)\n",
        "rData"
      ],
      "metadata": {
        "id": "J9pknW-f1xrq",
        "outputId": "acbbad41-0ccf-49e3-8155-bbba20f7145b",
        "colab": {
          "base_uri": "https://localhost:8080/"
        }
      },
      "execution_count": 13,
      "outputs": [
        {
          "output_type": "execute_result",
          "data": {
            "text/plain": [
              "120"
            ]
          },
          "metadata": {},
          "execution_count": 13
        }
      ]
    },
    {
      "cell_type": "code",
      "source": [
        "data.saveAsTextFile(\"data.txt\")"
      ],
      "metadata": {
        "id": "6u-DNEDT2GSX"
      },
      "execution_count": 14,
      "outputs": []
    },
    {
      "cell_type": "code",
      "source": [
        "list1 = sc.parallelize([1,3,5,7,9])\n",
        "list2 = sc.parallelize([2,4,6,8,10])\n",
        "list3 = list1.union(list2)\n",
        "list3.collect()"
      ],
      "metadata": {
        "id": "5bgvMQl52RXR",
        "outputId": "8564b36a-905b-46c6-94f5-8b5e5049ca4b",
        "colab": {
          "base_uri": "https://localhost:8080/"
        }
      },
      "execution_count": 15,
      "outputs": [
        {
          "output_type": "execute_result",
          "data": {
            "text/plain": [
              "[1, 3, 5, 7, 9, 2, 4, 6, 8, 10]"
            ]
          },
          "metadata": {},
          "execution_count": 15
        }
      ]
    },
    {
      "cell_type": "code",
      "source": [
        "list4 = sc.parallelize(['A', 'B'])\n",
        "list1.cartesian(list4).collect()"
      ],
      "metadata": {
        "id": "fznLkfeZ2sBC",
        "outputId": "c77d6766-b28b-4827-c407-e0b6c3ca1a15",
        "colab": {
          "base_uri": "https://localhost:8080/"
        }
      },
      "execution_count": 17,
      "outputs": [
        {
          "output_type": "execute_result",
          "data": {
            "text/plain": [
              "[(1, 'A'),\n",
              " (3, 'A'),\n",
              " (1, 'B'),\n",
              " (3, 'B'),\n",
              " (5, 'A'),\n",
              " (7, 'A'),\n",
              " (9, 'A'),\n",
              " (5, 'B'),\n",
              " (7, 'B'),\n",
              " (9, 'B')]"
            ]
          },
          "metadata": {},
          "execution_count": 17
        }
      ]
    },
    {
      "cell_type": "code",
      "source": [
        "my_dict = {\"A\": 1, \"B\": 2, \"C\": 3}\n",
        "dData = sc.parallelize(my_dict.items())\n",
        "dData.collect()"
      ],
      "metadata": {
        "id": "rVLzAPfe3iOQ",
        "outputId": "adb56354-d7e2-4586-a75d-8348947a2bed",
        "colab": {
          "base_uri": "https://localhost:8080/"
        }
      },
      "execution_count": 30,
      "outputs": [
        {
          "output_type": "execute_result",
          "data": {
            "text/plain": [
              "[('A', 1), ('B', 2), ('C', 3)]"
            ]
          },
          "metadata": {},
          "execution_count": 30
        }
      ]
    },
    {
      "cell_type": "code",
      "source": [
        "kvData = sc.parallelize(['A', 'B', 'A', 'B', 'A', 'C'])\n",
        "countData = kvData.map(lambda x: (x, 1)).reduceByKey(lambda a, b: a + b)\n",
        "countData.collect()"
      ],
      "metadata": {
        "id": "tTgdFJQU5U8H",
        "outputId": "e7a84b87-2e38-4560-86e4-b6a68d8e6798",
        "colab": {
          "base_uri": "https://localhost:8080/"
        }
      },
      "execution_count": 32,
      "outputs": [
        {
          "output_type": "execute_result",
          "data": {
            "text/plain": [
              "[('C', 1), ('A', 3), ('B', 2)]"
            ]
          },
          "metadata": {},
          "execution_count": 32
        }
      ]
    },
    {
      "cell_type": "code",
      "source": [
        "tData = sc.textFile(\"files\")\n",
        "tData.collect()"
      ],
      "metadata": {
        "id": "ZDNbHEUs5r_D",
        "outputId": "1996ad73-16d6-4f0c-f5d8-d552a652ae6c",
        "colab": {
          "base_uri": "https://localhost:8080/"
        }
      },
      "execution_count": 37,
      "outputs": [
        {
          "output_type": "execute_result",
          "data": {
            "text/plain": [
              "['1', '1', '1', '1', '2', '2', '2', '2']"
            ]
          },
          "metadata": {},
          "execution_count": 37
        }
      ]
    },
    {
      "cell_type": "code",
      "source": [
        "tData.take(5)"
      ],
      "metadata": {
        "id": "n6d7IW6w7l9X",
        "outputId": "083ec2b1-750d-4e58-d34b-6a04219d084f",
        "colab": {
          "base_uri": "https://localhost:8080/"
        }
      },
      "execution_count": 39,
      "outputs": [
        {
          "output_type": "execute_result",
          "data": {
            "text/plain": [
              "['1', '1', '1', '1', '2']"
            ]
          },
          "metadata": {},
          "execution_count": 39
        }
      ]
    },
    {
      "cell_type": "code",
      "source": [
        "sd.stop()"
      ],
      "metadata": {
        "id": "oFfpoaNv-Bal"
      },
      "execution_count": 62,
      "outputs": []
    },
    {
      "cell_type": "code",
      "source": [
        "from pyspark.sql import SparkSession\n",
        "\n",
        "sd = SparkSession.builder.appName(\"CreateDataFrameExample\").getOrCreate()\n",
        "\n",
        "data = [(\"Alice\", 34), (\"Bob\", 45), (\"Charlie\", 30), (\"David\", 23)]\n",
        "\n",
        "df = sd.createDataFrame(data, [\"Name\", \"Age\"])\n",
        "\n",
        "df.show()\n",
        "\n",
        "myRdd = sc.parallelize(data)\n",
        "\n",
        "myRdd.collect()\n",
        "\n",
        "sd.stop()\n",
        "\n",
        "\n"
      ],
      "metadata": {
        "id": "vgOklVAX7xUx",
        "outputId": "4181700c-95ec-4bd0-fe73-6ead42b53e45",
        "colab": {
          "base_uri": "https://localhost:8080/"
        }
      },
      "execution_count": 60,
      "outputs": [
        {
          "output_type": "stream",
          "name": "stdout",
          "text": [
            "+-------+---+\n",
            "|   Name|Age|\n",
            "+-------+---+\n",
            "|  Alice| 34|\n",
            "|    Bob| 45|\n",
            "|Charlie| 30|\n",
            "|  David| 23|\n",
            "+-------+---+\n",
            "\n"
          ]
        }
      ]
    },
    {
      "cell_type": "code",
      "source": [
        "myRdd = sc.parallelize([(\"Alice\", 34), (\"Bob\", 45), (\"Charlie\", 30), (\"David\", 23)])\n",
        "\n",
        "myRdd.collect()\n",
        "\n",
        "sc.stop()"
      ],
      "metadata": {
        "id": "wwkIahnB-WB_"
      },
      "execution_count": 68,
      "outputs": []
    }
  ]
}